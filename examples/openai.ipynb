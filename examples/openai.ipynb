{
 "cells": [
  {
   "cell_type": "markdown",
   "metadata": {},
   "source": [
    "## OpenAI\n",
    "\n",
    "You hardly need to do anything, just call `openai_patcher.setup` and there is absolutely no need to adjust how you use OpenAI."
   ]
  },
  {
   "cell_type": "code",
   "execution_count": null,
   "metadata": {
    "vscode": {
     "languageId": "shellscript"
    }
   },
   "outputs": [],
   "source": [
    "export OPENAI_API_KEY='sk-...'"
   ]
  },
  {
   "cell_type": "code",
   "execution_count": null,
   "metadata": {},
   "outputs": [],
   "source": [
    "from greptimeai import openai_patcher\n",
    "from openai import OpenAI\n",
    "\n",
    "client = OpenAI()\n",
    "openai_patcher.setup(client=client)  # This is the only line you need to add\n",
    "\n",
    "chat_completion = client.chat.completions.create(\n",
    "    messages=[\n",
    "        {\n",
    "            \"role\": \"user\",\n",
    "            \"content\": \"Say this is a test\",\n",
    "        }\n",
    "    ],\n",
    "    model=\"gpt-3.5-turbo\",\n",
    "    user=\"user_123\",\n",
    ")"
   ]
  },
  {
   "cell_type": "markdown",
   "metadata": {},
   "source": [
    "If you prefer passing the credentials directly, you can do so as well:"
   ]
  },
  {
   "cell_type": "code",
   "execution_count": null,
   "metadata": {},
   "outputs": [],
   "source": [
    "openai_patcher.setup(\n",
    "    host=os.environ.get(\"GREPTIMEAI_HOST\"),\n",
    "    database=os.environ.get(\"GREPTIMEAI_DATABASE\"),\n",
    "    token=os.environ.get(\"GREPTIMEAI_TOKEN\"),\n",
    "    client=client,\n",
    ")"
   ]
  }
 ],
 "metadata": {
  "language_info": {
   "name": "python"
  }
 },
 "nbformat": 4,
 "nbformat_minor": 2
}
